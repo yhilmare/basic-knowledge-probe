{
 "cells": [
  {
   "cell_type": "markdown",
   "metadata": {},
   "source": [
    "# 第13章 显式锁"
   ]
  },
  {
   "cell_type": "markdown",
   "metadata": {},
   "source": [
    "显式锁与内置锁的作用是相同的，区别在于内置锁是通过代码块的形式来进行加锁，并没有“加锁”这一显式操作。显式锁的出现能够让加锁这一操作显式化，这是显式锁的最大特点，除此之外，二者在性能上存在微小差异，在Java5之前这种差异还是比较大的，内置锁的开销要远远大于显式锁，但是在Java6中这种差异就变得比较小了，因此性能上的差异并不是选择内置锁还是显式锁的决定因素。"
   ]
  },
  {
   "cell_type": "markdown",
   "metadata": {},
   "source": [
    "所有的显式锁都是实现了如下接口：\n",
    "\n",
    "```Java\n",
    "public interface Lock{\n",
    "    void lock();\n",
    "    void lockInterruptibly() throws InterruptedException;\n",
    "    boolean tryLock();\n",
    "    boolean tryLock(long timeout, TimeUnit unit) throws InterruptedException;\n",
    "    void unlock();\n",
    "    Condition newCondition();\n",
    "}\n",
    "```"
   ]
  },
  {
   "cell_type": "markdown",
   "metadata": {},
   "source": [
    "比较常用的显式锁包括`ReentrantLock`与`ReentrantReadWriteLock`两种显式锁对象，前者是使用最为广泛的。其主要使用到的方法就是`tryLock`，`unlock`两种，分别对应于加锁操作和释放锁操作，与内置锁会自动释放锁不同，显式锁必须显式地释放锁，否则该锁就不能被其他线程获取造成严重的程序问题，通常情况下显示锁的使用如下面代码所示：\n",
    "\n",
    "```Java\n",
    "public void test(){\n",
    "    Lock lock = new ReentrantLock();\n",
    "    try{\n",
    "        ...\n",
    "        lock.tryLock();\n",
    "        ...\n",
    "    }finally{\n",
    "        lock.unlock();\n",
    "    }\n",
    "}\n",
    "```"
   ]
  },
  {
   "cell_type": "markdown",
   "metadata": {},
   "source": [
    "其中，`tryLock`方法还有一个重载版本是可以指定加锁等待时间的：`tryLock(long timeout, TimeUnit unit)`，在这个方法中如果线程等待了`timeout`时间后依然没有获得锁那么`tryLock`方法就会返回`false`代表加锁失败（在加锁失败的情况下不能再释放锁`unlock()`这会导致异常）。"
   ]
  },
  {
   "cell_type": "markdown",
   "metadata": {},
   "source": [
    "此外，`Lock`还有一个加锁方法：`lockInterruptibly()`这个加锁方法的效果与`tryLock`相同：都是尝试获取锁，但是不同的是这个加锁操作是可以“中断”的，也就是说它可以针对中断信号进行响应，传统不带参数的`tryLock()`方法不能对中断操作进行响应，带参数的`tryLock(long timeout, TimeUnit unit)`方法可以针对中断操作进行响应。\n",
    "\n",
    "最后，显式锁还有一个例子是读写锁`ReentrantReadWriteLock`，这个锁要解决的问题是一个应用场景下同时存在读读操作，读写操作。如果在不同的操作下加同一力度的锁难免会有性能上的损失，例如仅仅针对一个数据项进行读操作，传统的加锁方案带来的影响是如果一个线程在读那么另一个线程就必须等待，这显然是不合理的。读写锁就是为了解决这个问题而诞生的，其设计思想和数据库中的读写锁十分类似，不再赘述。"
   ]
  },
  {
   "cell_type": "markdown",
   "metadata": {},
   "source": [
    "# 第14章 构建自定义的同步工具"
   ]
  },
  {
   "cell_type": "markdown",
   "metadata": {},
   "source": [
    "所谓同步工具其实也就是阻塞工具，若线程调用某一个阻塞工具的方法，如果满足某种条件就调用成功，反之则会阻塞在方法上知道满足某个条件后线程才能继续执行。通常情况下同步工具通过以下三种方式实现：\n",
    "\n",
    "1. 通过“睡眠”的形式实现：在同步工具类的阻塞方法中使用一个死循环，在死循环中轮询检查条件谓词（阻塞条件），如果不满足条件就一直死循环下去，若满足则执行相应的逻辑。为了避免死循环空耗CPU周期，可以在每一次循环之后加上一个线程睡眠时间。\n",
    "\n",
    "2. 通过条件队列来实现：上面的方法实现不够优美，还是通过轮询的方式。而条件队列的实现思想就是如果条件谓词没有满足则线程睡眠即可，一旦条件满足就唤醒线程。这是一种比较通用优雅的实现方式，在具体实现上可以有两种途径：\n",
    "  1. 通过内置锁：这种方式是通过`wait`和`notify(notifyAll)`方法实现，这种实现方法需要注意的是判断条件谓词成立需要使用`while`来循环判断而不要用`if`因为可能会有信号被重置的隐患。另外，由于可能有多个条件谓词，因此最好使用`notifyAll`来唤醒线程，以避免信号丢失。\n",
    "  2. 通过显式锁：这种方式通过`ReentrantLock.newCondition`的`await`和`signal(signalAll)`来实现与内置锁形式中`wait`和`notify(notifyAll)`相同的功能。这种方式的条件队列较为灵活，因为如果存在多个条件谓词可以通过`ReentrantLock.newCondition`得到多个`Condition`对象来代表多个条件谓词进行线程的控制。除此之外，`Condition`对象还能够指定等待的时间，因此要灵活的多。\n",
    "\n",
    "3. 通过`AbstractQueuedSynchronizer`对象来实现：`java.util.concurrent`包中的`ReentrantLock`，`Semaphore`，`CountDownLatch`等同步对象都是`AbstractQueuedSynchronizer`的子类实现。这种方式较为复杂通常也并不推荐，因为Java自身的同步类几乎已经够用了，因此只做了解就足够。"
   ]
  },
  {
   "cell_type": "markdown",
   "metadata": {},
   "source": [
    "## 通过轮询实现同步工具类"
   ]
  },
  {
   "cell_type": "markdown",
   "metadata": {},
   "source": [
    "通过轮询来实现同步工具类的思想十分简单，就是当条件谓词不成立时执行一个死循环等待，直到这个条件谓词成立。具体可以通过一个阻塞队列的例子来看这种方式的具体应用。这里要实现的阻塞队列在外部表现上和Java自带的阻塞队列有相同的表现：如果队列为空那么“取”操作就会被阻塞，如果队列为满则“放”操作就会被阻塞。具体的方法实现如下，首先是对队列的放操作：\n",
    "\n",
    "```Java\n",
    "public void put(V obj) throws InterruptedException{\n",
    "    while(true){\n",
    "        synchronized(this){\n",
    "            if (!isFull()){\n",
    "                ...\n",
    "               doPut(obj);\n",
    "                ...\n",
    "               return;\n",
    "            }\n",
    "        }\n",
    "        Thread.currentThread.sleep(xxx);\n",
    "    }\n",
    "}\n",
    "```\n",
    "\n",
    "如果现在的操作是取操作：\n",
    "\n",
    "```Java\n",
    "public <V> V take() throws InterruptedException{\n",
    "    while(true){\n",
    "        synchronized(this){\n",
    "            if (!isEmpty()){\n",
    "                ...\n",
    "               return doTake();\n",
    "            }\n",
    "        }\n",
    "        Thread.currentThread.sleep(xxx);\n",
    "    }\n",
    "}\n",
    "```"
   ]
  },
  {
   "cell_type": "markdown",
   "metadata": {},
   "source": [
    "关于上面的两段程序需要解释一下：\n",
    "\n",
    "1. 为什么加锁操作在方法内部而不是直接声明`take`和`put`方法为同步方法：这是因为如果声明方法为同步方法则线程一旦在其中等待就会一直占有该锁，其他线程就不能进入，这样会降低并发性，而且由于不同同步方法上的锁并不是同一个，也就是说可能会出现并发对对象实行`take`和`put`操作，这样可能会造成竞争条件。如果采用方法内部锁对象的形式就能够避免这种情况。\n",
    "\n",
    "2. 线程睡眠的问题：之所以在死循环内部放置一个线程睡眠的模块是为了方式线程在死循环中空转而消耗CPU时钟，但是如果睡眠时间过长又会造成程序响应性能降低，这是需要平衡的一个问题。"
   ]
  },
  {
   "cell_type": "markdown",
   "metadata": {},
   "source": [
    "## 通过条件队列"
   ]
  },
  {
   "cell_type": "markdown",
   "metadata": {},
   "source": [
    "通过条件队列实现同步对象是一种较为合理的方式，因为这种方式的思想非常符合现实情况：如果条件不满足就放线程去睡眠，如果条件满足就唤醒线程。实现条件队列的方式大体上有两种，一种是通过内置锁，一种是通过显式锁。下面来分别说明。\n",
    "\n",
    "### 通过内置锁"
   ]
  },
  {
   "cell_type": "markdown",
   "metadata": {},
   "source": [
    "这种方式就是通过调用`Object`对象的`wait`和`notify(notifyAll)`方法来实现同步。在这里首先要明确一个概念：条件谓词。这个该奶奶可以理解为等待条件，如果这个等待条件为真那么线程就应该等待，否则就应该执行下去。下面依然通过一个例子来说明条件队列的使用，这里的例子依然是之前的阻塞队列，首先来看队列的`put`方法：\n",
    "\n",
    "```Java\n",
    "public void put(V v) throws InterruptedException{\n",
    "    synchronized(this){\n",
    "        while(isFull()){\n",
    "            wait();\n",
    "        }\n",
    "        boolean wasEmpty = isEmpty();\n",
    "        doPut(v);\n",
    "        if (!wasEmpty){\n",
    "            notifyAll();\n",
    "        }\n",
    "    }\n",
    "}\n",
    "```\n",
    "\n",
    "再来看阻塞队列中的`take`方法：\n",
    "\n",
    "```Java\n",
    "public <V> V take() throws InterruptedException{\n",
    "    synchronized(this){\n",
    "        while(isEmpty()){\n",
    "            wait();\n",
    "        }\n",
    "        boolean wasFull = isFull();\n",
    "        if(!wasFull){\n",
    "            notifyAll();\n",
    "        }\n",
    "        return doTake();\n",
    "        \n",
    "    }\n",
    "}\n",
    "```"
   ]
  },
  {
   "cell_type": "markdown",
   "metadata": {},
   "source": [
    "在这里同样需要做几点说明：\n",
    "\n",
    "1. 为什么不用同步方法而要用内置锁：原因同上，但是很多例子中都是将这两个方法作为同步方法而非内部锁，我个人并不认同这种做法。\n",
    "\n",
    "2. 为什么判断条件的时候用`while`而不是`if`：这是因为唤醒线程时唤醒了多个线程可能会对条件谓词造成多次修改，线程苏醒的的地方是`wait`方法调用的地方，也就是说如果用`if`来判断条件谓词，当线程苏醒后它并不会再次判断条件谓词是否成立，而此时线程虽然苏醒但是其条件谓词是否成立还真不好说。因此需要通过`while`来循环判断，确保条件谓词成立。\n",
    "\n",
    "3. 为什么使用`notifyAll`：这是因为这里存在两个条件谓词：队列是否为满以及队列是否为空。而如果使用`notify`的话该方法本身并不能保证唤醒某一个具体的线程，因此只能使用`notifyAll`来唤醒所有的线程。"
   ]
  },
  {
   "cell_type": "markdown",
   "metadata": {},
   "source": [
    "### 通过显式锁"
   ]
  },
  {
   "cell_type": "markdown",
   "metadata": {},
   "source": [
    "上面通过内置锁的形式无法解决一个核心问题就是在有多个条件谓词的情况下何如高效率唤醒的问题，前面的方案是唤醒全部睡眠线程，这显得太不经济也太粗暴了。而通过显式锁的形式完成的条件队列则没有这个问题，因为现实所能够通过`ReentrantLock.newCondition`来获取多个条件对象代表多个条件谓词。还是以上面的阻塞队列为例，首先来看`put`方法：\n",
    "\n",
    "```Java\n",
    "private final Lock lock = new ReentrantLock();\n",
    "private final Condition notFull = lock.newCondition();\n",
    "private final Condition notEmpty = lock.newCondition();\n",
    "\n",
    "public void put(V v) throws InterruptedException{\n",
    "    lock.lock();\n",
    "    try{\n",
    "        while(isFull()){\n",
    "            notFull.await();\n",
    "        }\n",
    "        boolean wasEmpty = isEmpty();\n",
    "        doPut(V);\n",
    "        if (!wasEmpty){\n",
    "            notEmpty.signal();\n",
    "        }\n",
    "    }finally{\n",
    "        lock.unlock();\n",
    "    }\n",
    "}\n",
    "```\n",
    "\n",
    "如果是`take`方法则有以下实现：\n",
    "\n",
    "\n",
    "```Java\n",
    "private final Lock lock = new ReentrantLock();\n",
    "private final Condition notFull = lock.newCondition();\n",
    "private final Condition notEmpty = lock.newCondition();\n",
    "\n",
    "public <V> V take() throws InterruptedException{\n",
    "    lock.lock();\n",
    "    try{\n",
    "        while(isEmpty()){\n",
    "            notEmpty.await();\n",
    "        }\n",
    "        boolean wasFull = isFull();\n",
    "        if (!wasFull){\n",
    "            notFull.signal();\n",
    "        }\n",
    "        return doTake();\n",
    "    }finally{\n",
    "        lock.unlock();\n",
    "    }\n",
    "}\n",
    "```"
   ]
  },
  {
   "cell_type": "markdown",
   "metadata": {},
   "source": [
    "# 第15章 原子变量与非阻塞同步机制"
   ]
  },
  {
   "cell_type": "markdown",
   "metadata": {},
   "source": [
    "本章主要讲的是一些非阻塞机制，重点只讲了一件事就是`CAS`，该指令只有一个作用就是比较并交换，详细的说明在虚拟机的笔记中已经讲得很清楚了，在此不再赘述。Java中所有的非阻塞同步几乎都是通过`CAS`来实现的，该指令是一个底层的机器指令，因此是原子性的，不可被打断。非阻塞同步也被叫做乐观锁。"
   ]
  },
  {
   "cell_type": "markdown",
   "metadata": {},
   "source": [
    "传统的加锁操作缺点是非常明显的：加锁操作相对于非阻塞同步手段的耗时是非常大的。在通常的并发条件下，非阻塞同步措施与加锁措施相比优点是吞吐量高，这也反映了非阻塞同步的效率较之于加锁是比较高的。但是非阻塞同步的缺点也很明显，由于其底层支持几乎只来源于`CAS`指令，因此使用其构建比较复杂的同步代码块时较为困难。"
   ]
  },
  {
   "cell_type": "markdown",
   "metadata": {},
   "source": [
    "## 原子变量"
   ]
  },
  {
   "cell_type": "markdown",
   "metadata": {},
   "source": [
    "非阻塞机制在程序设计中应用最广的是原子型变量，原子型变量中广泛应用了`CAS`指令，同时原子型变量的操作由于应用了`CAS`操作，因此相当于在原子变量上加上了`volatile`关键字，也就是说对于原子型变量的修改是可以立即反映在主存中的，完全保证了可见性。共有12个原子变量类，可分为4组：\n",
    "\n",
    "1. 标量类（Scalar）：这是最常用的原子型变量，`AtomicInteger`，`AtomicLong`，`AtomicBoolean`和`AtomicReference`都是这种类型的原子型变量。\n",
    "\n",
    "2. 更新器类。\n",
    "\n",
    "3. 数组类。\n",
    "\n",
    "4. 复合变量类。\n",
    "\n",
    ">如果在某种算法中，一个线程的失败或者挂起不会导致其他线程的也失败或者挂起，那么这种算法就被称作是**非阻塞算法**。如果在算法的每个步骤中都存在某个线程能够执行下去，那么这种算法也被称为**无锁算法**。"
   ]
  },
  {
   "cell_type": "markdown",
   "metadata": {},
   "source": [
    "为了说明这种非阻塞算法的应用，现在特别举一个例子：非阻塞的并发栈。通常情况下一个栈如果在并发条件下应用需要特别小心的进行加锁，因为如果有不同线程并发地对一个栈进行入栈和出栈操作，那么就几乎一定会引发错误，因此无论入栈还是出栈操作的都是栈顶指针。例子如下：\n",
    "\n",
    "```Java\n",
    "public class ConcurrentStack <E>{\n",
    "    AtomicReference<Node<E>> top = new AtomicRefernece<Node<E>>();\n",
    "    public void push(E item){\n",
    "        Node<E> newNode = new Node<E>(item);\n",
    "        Node<E> topNode = top.getValue();\n",
    "        newNode.next = topNode;\n",
    "        while(!top.compareAndSet(topNode, newNode)){\n",
    "            topNode = top.getValue();\n",
    "            newNode.next = topNode;\n",
    "        }\n",
    "    }\n",
    "    public E pop(){\n",
    "        Node<E> oldNode = top.getValue();\n",
    "        if (oleNode == null){\n",
    "            return null;\n",
    "        }\n",
    "        Node<E> newNode = oldNode.next;\n",
    "        while(!top.compareAndSet(oleNode, newNode)){\n",
    "            oldNode = top.getValue();\n",
    "            if (oldNode == null){\n",
    "                return null;\n",
    "            }\n",
    "            newNode.next = oldNode;\n",
    "        }\n",
    "        return oldNode.item;\n",
    "    }\n",
    "    private class Node<E>{\n",
    "        public E item;\n",
    "        public Node<E> next;\n",
    "        public Node(E item){\n",
    "            this.item = item;\n",
    "        }\n",
    "    }\n",
    "}\n",
    "```"
   ]
  },
  {
   "cell_type": "markdown",
   "metadata": {},
   "source": [
    "上面的代码没有使用任何锁来实现阻塞机制，但是它却是线程安全的。从这个并发栈的`push`和`pop`方法中可以看出非阻塞机制的核心思想就是假设该操作没有并发危险直接去做，如果最后的`CAS`指令成功了那么就真的成功了，否则就说明有并发危险，非阻塞机制在这里的选择是再次尝试，直到尝试成功。这种非阻塞机制的缺点也是十分明显的：对栈的操作仅仅是对其栈顶的操作，因此一个`CAS`操作就可以完成（对其栈顶的修改）。但是如果一个场景需要多个操作才能完成（比如链表的操作，加减节点都需要多个操作才能完成）那么使用非阻塞机制就会非常麻烦。Java中的`ConcurrentLinkedQueue`就是这样一种使用非阻塞机制实现的链表结构，它的内部机制非常复杂，使用了Michael-Scott在1996年提出的算法。"
   ]
  },
  {
   "cell_type": "markdown",
   "metadata": {},
   "source": [
    "## `ABA`问题"
   ]
  },
  {
   "cell_type": "markdown",
   "metadata": {},
   "source": [
    "所谓`ABA`问题就是说一个域原来的值是`A`，现在有一个线程需要修改其值并且侦测到了这个域的值为`A`，但是在修改之前该域的值被其他线程修改成了`B`，随后又被另一个线程改回了`A`，那么对于原来的线程而言，该值究竟是有没有被修改呢？如果这个域只是单纯的一个值，那么这可能还可以不被称做一个问题，但是如果该域与其他变量存在耦合，那么这可能会导致一些隐患。因此`ABA`问题是非阻塞机制中一个非常关键的问题，在这个问题的解决上通常是通过一些其他的原子型变量来解决的，这不是重点就不再赘述。"
   ]
  },
  {
   "cell_type": "markdown",
   "metadata": {},
   "source": [
    "# 第16章 Java内存模型"
   ]
  },
  {
   "cell_type": "markdown",
   "metadata": {},
   "source": [
    "本上讨论的问题依然是Java内存模型上存在的隐患。由于Java在多线程编程下存在主存和工作内存的差异，导致了不同线程执行之间的指令重排问题，这可能会导致线程读取到不正确的值问题。再接着介绍了著名的`happens-before`原则，这种偏序关系的保证可以使用`volatile`或者加锁来实现。本章最核心的问题还是介绍了对象如何安全发布的问题，由于指令重排以及Java内存模型本身固有的平衡，导致如何正确发布一个对象成为了需要特别关注的问题。"
   ]
  },
  {
   "cell_type": "markdown",
   "metadata": {},
   "source": [
    "通常情况下，一个对象最简单的发布方式就是通过静态成员变量的形式，在类加载的类初始化阶段就被初始化成功，那么这个对象就可以被安全发布：\n",
    "\n",
    "```Java\n",
    "public class EagerInitialization{\n",
    "    private static Resource resource = new Resource();\n",
    "    public static getResource(){\n",
    "        return resource;\n",
    "    }\n",
    "}\n",
    "```"
   ]
  },
  {
   "cell_type": "markdown",
   "metadata": {},
   "source": [
    "在本章中，笔者还得知了以前觉得天衣无缝的一种单例模式写法是一种非常不友好的方式，在以前如果要是写一个单例模式，通常是这样的：\n",
    "\n",
    "```Java\n",
    "public class Singleton{\n",
    "    private static volatile Resource resource = null;\n",
    "    public static Resource getResource(){\n",
    "        if (resource == null){\n",
    "            synchronized(Reource.class){\n",
    "                if (resource == null){\n",
    "                    resource = new Resource();\n",
    "                }\n",
    "            }\n",
    "        }\n",
    "        return resource;\n",
    "    }\n",
    "}\n",
    "```"
   ]
  },
  {
   "cell_type": "markdown",
   "metadata": {},
   "source": [
    "这种对象发布模式或者单例模式被称作是双重加锁模式（DCL），虽然从正确性上来说，这种模式是没有任何问题的，但是性能很差。因此现在这种模式渐渐被延长初始化占位类模式所取代：\n",
    "\n",
    "```Java\n",
    "class ResourceFactory{\n",
    "    private static class ResourceHolder{\n",
    "        private static Resource resource = new Resource();\n",
    "        public static Reource getResource(){\n",
    "            return resource;\n",
    "        }\n",
    "    }\n",
    "    static public Resource getResource(){\n",
    "        return ResourceHolder.getResource();\n",
    "    }\n",
    "}\n",
    "```"
   ]
  },
  {
   "cell_type": "markdown",
   "metadata": {},
   "source": [
    "上面这种方式的优点非常明显：没有加锁操作。这就避免了一大块开销。从程序的正确性上来说，这种方式利用了JVM虚拟机类加载的机制，当程序不需要`Resource`这个对象的时候`ResourceHolder`是不会被加载的，那么`Resource`这个对象自然也就不会被初始化，如果需要的话通过调用`ResourceFactory.getResource()`方法就能够通过类加载的方式来初始化`Resource`对象，实现了懒加载的机制。"
   ]
  },
  {
   "cell_type": "code",
   "execution_count": null,
   "metadata": {},
   "outputs": [],
   "source": []
  }
 ],
 "metadata": {
  "kernelspec": {
   "display_name": "Python 3",
   "language": "python",
   "name": "python3"
  },
  "language_info": {
   "codemirror_mode": {
    "name": "ipython",
    "version": 3
   },
   "file_extension": ".py",
   "mimetype": "text/x-python",
   "name": "python",
   "nbconvert_exporter": "python",
   "pygments_lexer": "ipython3",
   "version": "3.5.4"
  }
 },
 "nbformat": 4,
 "nbformat_minor": 2
}
