{
 "cells": [
  {
   "cell_type": "markdown",
   "metadata": {},
   "source": [
    "# 第六章 任务执行"
   ]
  },
  {
   "cell_type": "markdown",
   "metadata": {},
   "source": [
    "本章主要先行介绍了一下线程池的概念，由于以前总是直接创造线程并没有将注意力全部放到任务本身的执行上，这一点是不推荐的。而线程池的出现就允许程序员更多地将注意力放在线程本身要执行的逻辑上，而将线程的创建，执行调度划归给线程池执行，这也是线程池出现的意义所在。"
   ]
  },
  {
   "cell_type": "markdown",
   "metadata": {},
   "source": [
    "## `Executor`接口"
   ]
  },
  {
   "cell_type": "markdown",
   "metadata": {},
   "source": [
    "`Executor`接口是线程池的基础，它是非常简单的一个接口，但是所有的线程池对象都是基于此继承发展而来，它的代码如下所示：\n",
    "\n",
    "```Java\n",
    "public interface Executor{\n",
    "    void execute(Runnable command);\n",
    "}\n",
    "```\n",
    "该接口本身和线程并没有关系，`execute`方法的本意是将任务抽象出来，在这个方法中可以根据实现者的意图来决定任务的具体执行方式，可以是串行地执行也可以通过线程来并发地执行，这个接口出现的主要意义在于将任务抽象出来。"
   ]
  },
  {
   "cell_type": "markdown",
   "metadata": {},
   "source": [
    "## 线程池介绍"
   ]
  },
  {
   "cell_type": "markdown",
   "metadata": {},
   "source": [
    "线程池即是上一节`Executor`接口的实现对象及其继承接口的实现对象，例如固定大小线程池的对象即是`ExecutorService`，这也是一个接口，它继承于`Executor`并且扩展了接口的功能：\n",
    "\n",
    "```Java\n",
    "public interface ExecutorService extends Executor {\n",
    "    void shutdown();\n",
    "    List<Runnable> shutdownNow();\n",
    "    boolean isShutdown();\n",
    "    boolean isTerminated();\n",
    "    boolean awaitTermination(long timeout, TimeUnit unit)\n",
    "        throws InterruptedException;\n",
    "    ...\n",
    "}\n",
    "```"
   ]
  },
  {
   "cell_type": "markdown",
   "metadata": {},
   "source": [
    "线程池的有点主要有以下两方面：\n",
    "\n",
    "1. 通过重用现有的线程而不是创建新的线程，可以在处理多个请求时分摊在线程创建和销毁过程中的巨大开销。\n",
    "\n",
    "2. 当请求到达时，工作线程通常已经存在，因此不会由于等待线程创建而延迟任务的执行，从而提高了响应性。"
   ]
  },
  {
   "cell_type": "markdown",
   "metadata": {},
   "source": [
    "## 线程池的简单使用"
   ]
  },
  {
   "cell_type": "markdown",
   "metadata": {},
   "source": [
    "线程池可以用来执行任务，Java中针对任务进行了一定的封装，通常情况下可以使用`Runnable`和`Callable`两种方式来对任务进行封装，而线程池对这两种任务封装均有很好的支持。"
   ]
  },
  {
   "cell_type": "markdown",
   "metadata": {},
   "source": [
    "### `Runnable`和`Callable`\n",
    "\n",
    "这两个均是接口，均可以用来封装任务。通常情况下在传统的线程编程中都用的是`Runnable`来封装任务，但是它有两个比较大的缺点：\n",
    "\n",
    "1. `Runnable`的`run()`方法没有返回值。\n",
    "\n",
    "2. `Runnable`的`run()`方法不能抛出异常。\n",
    "\n",
    "由于有这两个问题的存在，因此在线程池中比较推荐使用`Callable`来封装任务，其代码如下所示：\n",
    "\n",
    "```Java\n",
    "public interface Callable<V> {\n",
    "    V call() throws Exception;\n",
    "}\n",
    "```\n",
    "可以看到，`Callable`接口的方法既可以返回值也能够抛出异常，这是其非常优秀的地方。"
   ]
  },
  {
   "cell_type": "markdown",
   "metadata": {},
   "source": [
    "### 在线程池中执行任务\n",
    "\n",
    "在这里主要介绍三种线程池，他们分别是：\n",
    "\n",
    "* `Executors.newFixedThreadPool`：这是最基本的线程池，它只接受一个固定大小的值作为线程池的容量。\n",
    "\n",
    "* `Executors.newScheduledThreadPool`：该线程池接受一个参数来表示线程池的大小，这点和固定大小线程池相同，不同之处在于这个线程池可以延迟调度，同时它也是替代`Timer`和`TimerTask`的绝佳选项。\n",
    "\n",
    "* `ExecutorCompletionService`：该线程池接受一个已经实例化好的线程池作为初始化参数，该线程池可视为已有线程池的增强，它的优点在于和阻塞队列结合起来可以不断从队列中取出已经执行好的任务并且获得该任务的返回结果。"
   ]
  },
  {
   "cell_type": "markdown",
   "metadata": {},
   "source": [
    "线程池主要使用`execute`和`submit`两个方法来执行任务，前者是针对`Runnable`型的任务，后者是针对`Callable`型的任务。`submit`返回一个`Future`对象，该对象用于描述任务的执行情况并且可以从中通过`Future.get()`方法获取到任务的返回值（如果有的话），该方法是一个阻塞方法，也就是说只要任务没有返回就会阻塞执行。举例如下：\n",
    "\n",
    "```Java\n",
    "public void testnewFixedThreadPool() {\n",
    "    \tExecutorService service = Executors.newFixedThreadPool(3);\n",
    "    \tint c = 0;\n",
    "    \twhile ((c ++) < 3) {\n",
    "    \t\tRunnable task = new Runnable() {\n",
    "\t\t\t\t@Override\n",
    "\t\t\t\tpublic void run() {\n",
    "\t\t\t\t\ttry {\n",
    "\t\t\t\t\t\tThread.currentThread().sleep(1000);\n",
    "\t\t\t\t\t} catch (InterruptedException e) {\n",
    "\t\t\t\t\t\te.printStackTrace();\n",
    "\t\t\t\t\t}\n",
    "\t\t\t\t\tSystem.out.println(\"This is in Runnnable \" + Thread.currentThread().getName());\n",
    "\t\t\t\t}\n",
    "    \t\t};\n",
    "    \t\tservice.execute(task);\n",
    "    \t}\n",
    "    \tc = 0;\n",
    "    \twhile((c ++) < 3) {\n",
    "    \t\tCallable<String> task = new Callable<String>() {\n",
    "\t\t\t\t@Override\n",
    "\t\t\t\tpublic String call() throws Exception {\n",
    "\t\t\t\t\ttry {\n",
    "    \t\t\t\t\tThread.currentThread().sleep(1000);\n",
    "    \t\t\t\t} catch (InterruptedException e) {\n",
    "    \t\t\t\t\te.printStackTrace();\n",
    "    \t\t\t\t}\n",
    "    \t\t\t\tSystem.out.println(\"This is in Callable \" + Thread.currentThread().getName());\n",
    "    \t\t\t\treturn \"Return msg \" + Thread.currentThread().getName();\n",
    "\t\t\t\t}\n",
    "    \t\t};\n",
    "    \t\tFuture<String> fu = service.submit(task);\n",
    "    \t\ttry {\n",
    "    \t\t\tSystem.out.println(fu.get());\n",
    "\t\t\t} catch (InterruptedException e) {\n",
    "\t\t\t\te.printStackTrace();\n",
    "\t\t\t} catch (ExecutionException e) {\n",
    "\t\t\t\te.printStackTrace();\n",
    "\t\t\t}\n",
    "    \t}\n",
    "    \ttry {\n",
    "\t\t\tservice.awaitTermination(5000, TimeUnit.MILLISECONDS);\n",
    "\t\t} catch (InterruptedException e) {\n",
    "\t\t\te.printStackTrace();\n",
    "\t\t}\n",
    "}\n",
    "```\n",
    "\n",
    "输出如下：\n",
    "\n",
    "```shell\n",
    "This is in Runnnable pool-1-thread-3\n",
    "This is in Runnnable pool-1-thread-2\n",
    "This is in Runnnable pool-1-thread-1\n",
    "This is in Callable pool-1-thread-2\n",
    "Return msg pool-1-thread-2\n",
    "This is in Callable pool-1-thread-1\n",
    "Return msg pool-1-thread-1\n",
    "This is in Callable pool-1-thread-3\n",
    "Return msg pool-1-thread-3\n",
    "```"
   ]
  },
  {
   "cell_type": "markdown",
   "metadata": {},
   "source": [
    "### 使用`CompletionService`对象"
   ]
  },
  {
   "cell_type": "markdown",
   "metadata": {},
   "source": [
    "固定大小的线程池如果要获取线程池中任务返回的结果，一个方法就是将其`Future`对象都用容器保存下来（例如`List`），然后用一个循环遍历这些`Future`，找到可以返回的对象，这样的方法显得太过复杂，而且可能会带来性能上的问题。`CompletionService`就解决了这个问题，它是在原有线程池的基础上引入了阻塞队列，每当线程池中有任务执行完毕就将这个任务放到一个阻塞队列中，在外部可以通过`CompletionService.take()`来获取到执行完毕的任务，然后再调用`Future.get()`方法获取任务的返回值。如果当前没有可以获取的执行完毕的任务那么`CompletionService.take()`就会阻塞。其使用如下所示：\n",
    "\n",
    "```Java\n",
    "public void testExecutorCompletionService() {\n",
    "    \tExecutorService tmp = Executors.newFixedThreadPool(10);\n",
    "    \tExecutorCompletionService<String> service = new ExecutorCompletionService<String>(tmp);\n",
    "    \tint c = 0;\n",
    "    \twhile((c ++) < 10) {\n",
    "    \t\tCallable<String> task = new Callable<String>() {\n",
    "\t\t\t\t@Override\n",
    "\t\t\t\tpublic String call() throws Exception {\n",
    "\t\t\t\t\tThread t = Thread.currentThread();\n",
    "\t\t\t\t\tt.sleep(1000);\n",
    "\t\t\t\t\tSystem.out.println(t.getName());\n",
    "\t\t\t\t\treturn t.getName();\n",
    "\t\t\t\t}\n",
    "    \t\t};\n",
    "    \t\tservice.submit(task);\n",
    "    \t}\n",
    "    \tfor (int i = 0; i < 10; i ++) {\n",
    "    \t\ttry {\n",
    "\t\t\t\tFuture res = service.take();\n",
    "\t\t\t\tSystem.out.println(res.get());\n",
    "\t\t\t} catch (InterruptedException e) {\n",
    "\t\t\t\te.printStackTrace();\n",
    "\t\t\t} catch (ExecutionException e) {\n",
    "\t\t\t\t// TODO Auto-generated catch block\n",
    "\t\t\t\te.printStackTrace();\n",
    "\t\t\t}\n",
    "    \t}\n",
    "}\n",
    "```"
   ]
  },
  {
   "cell_type": "markdown",
   "metadata": {},
   "source": [
    "# 第七章 取消与关闭"
   ]
  },
  {
   "cell_type": "markdown",
   "metadata": {},
   "source": [
    "这一章完完全全是在讲线程的中断，而且是只是分线程本身是如何应对中断的以及线程池是如何应对中断的。线程和进程一样，也需要可以挂起或者取消，但是Java的线程模型中没有显式的可以挂起线程的操作，原有的`suspend()`等挂起线程的操作被标识为过时的方法不再推荐使用，因为这样的方法容易引起线程对立，因此就不再使用。而实现线程取消最好的办法就是中断了。"
   ]
  },
  {
   "cell_type": "markdown",
   "metadata": {},
   "source": [
    "## 对原生线程的中断"
   ]
  },
  {
   "cell_type": "markdown",
   "metadata": {},
   "source": [
    "线程中断主要是通过线程对象`Thread.interrupt()`方法来实现的，但是这个方法并不是一个“威力”强大的能让线程立即停止执行的按钮，它所做的知识发出一个中断信号，将线程的中断标志位（也就是`Thread.isInterrupted()`置为`true`），除此之外没有做任何其他的事情。因此线程对中断的完全取决于其自身的设计——中断响应，极端情况下，线程针对终端可以完全不响应：就像没有中断信号一样执行自己的任务，当然，这样做是不推荐的。"
   ]
  },
  {
   "cell_type": "markdown",
   "metadata": {},
   "source": [
    "### 阻塞方法对中断的反应"
   ]
  },
  {
   "cell_type": "markdown",
   "metadata": {},
   "source": [
    "所谓阻塞方法就是执行时间不确定的那些方法，在线程内部看来这些方法是串行执行的，也就是死活只要这些方法不返回，写在其后面的代码都不能够被执行。这样的方法包括`Thread.sleep`方法，`Future.get`等等。这些方法几乎都是Java原生提供的，因此对中断的响应也处理的很好：\n",
    "\n",
    "1. 阻塞方法会尽快中止执行（之所以是**尽快**是由于程序是以轮询的方式来检查中断标志位的，因此中断信号发出后程序无法立刻感知到），并且抛出一个`InterruptedException`异常。\n",
    "\n",
    "2. 抛出异常的同时会将中断标志位恢复，也就是说本来中断信号将中断标志位置`True`，但是阻塞方法在处理完中断信号后将中断标志位重新置为`False`。\n",
    "\n",
    "阻塞方法中止执行并且抛出中断异常`InterruptedException`后，上层的`try-catch`语句捕获这个异常后就可以按照第五章给出的处理办法处理这个中断异常：要么将异常`InterruptedException`继续向上层抛出，要么就地处理异常并且通过调用`Thread.currentThread().interrupt()`再次中断该线程。（之所以再次中断完全是为了将中断标志位重新置为`True`）\n",
    "\n",
    "```Java\n",
    "public void test11() {\n",
    "    \tCyclicBarrier barrier = new CyclicBarrier(10, new Runnable() {\n",
    "\t\t\t@Override\n",
    "\t\t\tpublic void run() {\n",
    "\t\t\t\tSystem.out.println(\"Completed!\");\n",
    "\t\t\t}\n",
    "    \t});\n",
    "    \tThread t = new Thread(new Runnable() {\n",
    "\t\t\t@Override\n",
    "\t\t\tpublic void run() {\n",
    "\t\t\t\ttry {\n",
    "\t\t\t\t\tbarrier.await();\n",
    "\t\t\t\t\tSystem.out.println(\"completed!\");\n",
    "\t\t\t\t} catch (InterruptedException e) {\n",
    "\t\t\t\t\tSystem.out.println(\"This is in Thread and Exception before interrupt():\"+Thread.currentThread().isInterrupted());\n",
    "\t\t\t\t\te.printStackTrace();\n",
    "\t\t\t\t\tThread.currentThread().interrupt();//重新中断：将中断标志位重新置为True\n",
    "\t\t\t\t\tSystem.out.println(\"This is in Thread and Exception after interrupt():\"+Thread.currentThread().isInterrupted());\n",
    "\t\t\t\t} catch (BrokenBarrierException e) {\n",
    "\t\t\t\t\te.printStackTrace();\n",
    "\t\t\t\t}\t\n",
    "\t\t\t}\n",
    "    \t});\n",
    "    \tt.start();\n",
    "    \ttry {\n",
    "        \tt.interrupt();\n",
    "        \tSystem.out.println(\"This is out of the Thread: \" + t.isInterrupted());\n",
    "\t\t\tt.join();\n",
    "\t\t} catch (InterruptedException e) {\n",
    "\t\t\t// TODO Auto-generated catch block\n",
    "\t\t\te.printStackTrace();\n",
    "\t\t}\n",
    "}\n",
    "```\n",
    "输出如下：\n",
    "\n",
    "```shell\n",
    "This is out of the Thread: true\n",
    "This is in Thread and Exception before interrupt(): false\n",
    "java.lang.InterruptedException\n",
    "\tat java.base/java.util.concurrent.CyclicBarrier.dowait(CyclicBarrier.java:212)\n",
    "\tat java.base/java.util.concurrent.CyclicBarrier.await(CyclicBarrier.java:363)\n",
    "\tat com.ilmare.JVMLearning.AppTest$15.run(AppTest.java:680)\n",
    "\tat java.base/java.lang.Thread.run(Thread.java:834)\n",
    "This is in Thread and Exception after interrupt(): true\n",
    "```"
   ]
  },
  {
   "cell_type": "markdown",
   "metadata": {},
   "source": [
    "### 普通方法对中断的响应\n",
    "\n",
    "普通方法（非阻塞方法）可以说在原生机制上没有对中断的任何响应机制，完全需要程序员自己去处理中断。通常的做法就是在自己编写的方法中通过循环不断检查中断标志位是否被设置，如果被置为True就采取相应的办法。下面的程序在检测到中断后不进行任何处理直接结束`while`死循环：\n",
    "\n",
    "```Java\n",
    "public void test11() {\n",
    "    \tCyclicBarrier barrier = new CyclicBarrier(10, new Runnable() {\n",
    "\t\t\t@Override\n",
    "\t\t\tpublic void run() {\n",
    "\t\t\t\tSystem.out.println(\"Completed!\");\n",
    "\t\t\t}\n",
    "    \t});\n",
    "    \tThread t = new Thread(new Runnable() {\n",
    "\t\t\t@Override\n",
    "\t\t\tpublic void run() {\n",
    "\t\t\t\twhile(true) {\n",
    "\t\t\t\t\tif (Thread.currentThread().isInterrupted()) {\n",
    "\t\t\t\t\t\treturn;\n",
    "\t\t\t\t\t}\n",
    "\t\t\t\t}\n",
    "\t\t\t}\n",
    "    \t});\n",
    "    \tt.start();\n",
    "    \ttry {\n",
    "        \tt.interrupt();\n",
    "        \tSystem.out.println(\"This is out of the Thread: \" + t.isInterrupted());\n",
    "\t\t\tt.join();\n",
    "\t\t} catch (InterruptedException e) {\n",
    "\t\t\t// TODO Auto-generated catch block\n",
    "\t\t\te.printStackTrace();\n",
    "\t\t}\n",
    "}\n",
    "```"
   ]
  },
  {
   "cell_type": "markdown",
   "metadata": {},
   "source": [
    "## 对线程池的中断"
   ]
  },
  {
   "cell_type": "markdown",
   "metadata": {},
   "source": [
    "由于目前很多并发程序都依靠线程池在执行，因此针对线程池的中断也是十分有必要了解的，通常来说对于线程池的中断也是对线程池中管理的各个线程发送中断信号，这在原理上同中断原生线程是一模一样的。只是由于线程池管理着多个线程，因此线程池的中断分为两类：\n",
    "\n",
    "1. 针对线程池中某个特定线程的中断：由线程池执行的任务通常会返回一个`Future`对象用于标记任务执行的进度，这个对象同样也可以用于中断服务所在线程：只需要调用`Future.cancel()`方法即可向目标任务所在线程发送中断信号，接下来的操作和上一小节中所说的线程对中断的响应一致。\n",
    "\n",
    "\n",
    "2. 针对线程池中全部线程的中断：这可以调用线程池对象的`ExecutorService.shutdown()`或`Executor.shutdownNow()`两个方法来完成。前者其实并不能算中断，它只是让线程池不再接受新的任务，在当前提交任务执行完成后就关闭线程池，和中断线程并无关系，写在这里只是因为比较相关。后者则是向当前线程池中所有执行任务的线程统一发送中断信号，在线程收到中断信号之后的处理就和上一小结所说的一致。"
   ]
  },
  {
   "cell_type": "markdown",
   "metadata": {},
   "source": [
    "以下是针对线程池中某一个特定任务的中断：\n",
    "\n",
    "```Java\n",
    "public void test12() {\n",
    "    \tExecutorService service = Executors.newFixedThreadPool(10);\n",
    "    \tFuture<String> fu = service.submit(new Callable<String>() {\n",
    "\n",
    "\t\t\t@Override\n",
    "\t\t\tpublic String call() throws Exception {\n",
    "\t\t\t\ttry {\n",
    "\t\t\t\t\tSystem.out.println(\"Thread begin\");\n",
    "\t\t\t\t\tThread.sleep(1500);\n",
    "\t\t\t\t\tSystem.out.println(\"Thread completed\");\n",
    "\t\t\t\t} catch (InterruptedException e) {\n",
    "\t\t\t\t\tSystem.out.println(\"InterruptedException()\");\n",
    "\t\t\t\t\te.printStackTrace();\n",
    "\t\t\t\t}\n",
    "\t\t\t\treturn null;\n",
    "\t\t\t}\n",
    "    \t});\n",
    "    \t\n",
    "    \ttry {\n",
    "\t\t\tSystem.out.println(fu.get(500, TimeUnit.MILLISECONDS));//这里同时演示了带时间限制的get方法，一旦超时该方法就不再阻塞，同时抛出Timeout异常\n",
    "\t\t} catch (InterruptedException e1) {\n",
    "\t\t\te1.printStackTrace();\n",
    "\t\t} catch (ExecutionException e) {\n",
    "\t\t\te.printStackTrace();\n",
    "\t\t} catch (TimeoutException e) {\n",
    "\t\t\te.printStackTrace();\n",
    "\t\t}finally {\n",
    "\t\t\tfu.cancel(true);\n",
    "\t\t\tSystem.out.println(\"Is Interrupted? \"+fu.isCancelled());\n",
    "\t\t}\n",
    "}\n",
    "```"
   ]
  },
  {
   "cell_type": "markdown",
   "metadata": {},
   "source": [
    "上面代码同时也演示了`Future`对象中带时间限制的`get`方法，在超时出现限制之后`get`方法就不再阻塞而是立即返回并且抛出一个`TimeoutException`异常，但是此时并不意味着任务的执行也终止了，它依然在线程中执行，因此在`finally`块中调用`Future.cancel`方法来向任务执行线程发送中断信号，此时任务刚好在阻塞方法`sleep`方法上，该方法立刻终止阻塞并且抛出了中断异常。需要说明是`Future.cancel()`接受一个`boolean`型参数，这个参数的意思是说如果有任务正在执行是否要终止，通常都是填`true`。下面是该段程序的输出：\n",
    "\n",
    "```shell\n",
    "Thread begin\n",
    "java.util.concurrent.TimeoutException\n",
    "\tat java.base/java.util.concurrent.FutureTask.get(FutureTask.java:204)\n",
    "\tat com.ilmare.JVMLearning.AppTest.test12(AppTest.java:725)\n",
    "\tat java.base/jdk.internal.reflect.NativeMethodAccessorImpl.invoke0(Native Method)\n",
    "\t...\n",
    "InterruptedException()\n",
    "Is Interrupted? true\n",
    "java.lang.InterruptedException: sleep interrupted\n",
    "\tat java.base/java.lang.Thread.sleep(Native Method)\n",
    "\tat com.ilmare.JVMLearning.AppTest$16.call(AppTest.java:714)\n",
    "\t...\n",
    "```"
   ]
  },
  {
   "cell_type": "markdown",
   "metadata": {},
   "source": [
    "# 第八章 线程池的使用"
   ]
  },
  {
   "cell_type": "markdown",
   "metadata": {},
   "source": [
    "这一张完全是针对`ThreadPoolExecutor`这个对象的构造函数中的各个参数进行解释，以及论述各个参数的取值使用。首先稍微提及一下使用线程池可能带来的问题以及解决办法。线程池有一个特点就是限制并发线程的数量，这个特点带来的问题只有一个就是**死锁**，如果线程池中各个线程之间是相互独立且互不依赖那么就不存在这个问题。\n",
    "\n",
    "## 线程池中线程的死锁和饥饿"
   ]
  },
  {
   "cell_type": "markdown",
   "metadata": {},
   "source": [
    "这个问题的造成有两个前提条件：\n",
    "\n",
    "* 固定大小的线程池。\n",
    "\n",
    "* 线程和线程之间存在依赖：也就是说线程与线程之间存在执行上的偏序关系，一个线程可能要等待另一个线程的执行。"
   ]
  },
  {
   "cell_type": "markdown",
   "metadata": {},
   "source": [
    "假如设定一个线程池的大小为1，也就是说这个线程池只允许有一个活跃线程执行任务，但是现在提交了两个`Runnable`，其中一个`Runnable`需要等待另一个`Runnable`的执行完成，在这里可以通过一些阻塞方法来实现线程和线程之间的“等待”。那么这样的设定下就必定会出现**死锁**。这是由于线程池中仅允许有一个活跃线程，现在该线程在等待另一个线程的执行，但是另一个线程由于线程池大小的限制必须要先前线程退出才能得到执行，这就造成了死锁。当线程池大小固定且不是特别巨大时这样的死锁风险其实一直存在，其发生原理就如同上面所说的。"
   ]
  },
  {
   "cell_type": "markdown",
   "metadata": {},
   "source": [
    "### 解决办法\n",
    "\n",
    "解决办法其实很简单：就是在线程等待阻塞方法上加上一个最长等待时间，超时即抛出异常结束。这种解决死锁的办法其实也是解决死锁现象的一种最为常用最为简单的办法——杀死导致死锁的进程/线程。"
   ]
  },
  {
   "cell_type": "markdown",
   "metadata": {},
   "source": [
    "## `ThreadPoolExecutor`的使用"
   ]
  },
  {
   "cell_type": "markdown",
   "metadata": {},
   "source": [
    "该小节重点叙述了线程池的知识以及参数设定，首先看线程池的构造函数：\n",
    "\n",
    "```Java\n",
    "public ThreadPoolExecutor(int corePoolSize,\n",
    "                          int maximumPoolSize,\n",
    "                          long keepAliveTime,\n",
    "                          TimeUnit unit,\n",
    "                          BlockingQueue<Runnable> workQueue,\n",
    "                          ThreadFactory threadFactory,\n",
    "                          RejectedExecutionHandler handler)\n",
    "```"
   ]
  },
  {
   "cell_type": "markdown",
   "metadata": {},
   "source": [
    "对该构造函数的参数解释如下：\n",
    "\n",
    "* `corePoolSize`：这个参数决定了线程池的基本大小，即在没有任务执行时线程池的大小。\n",
    "\n",
    "* `maximumPoolSize`：这个参数决定了线程池中最大的活跃线程数，当任务队列中任务数超过`corePoolSize`的大小时，线程池就会继续创建线程直到达到这个`maximumPoolSize`大小。\n",
    "\n",
    "* `keepAliveTime`：书中没有提到，不过这个值通常设置为0.\n",
    "\n",
    "* `unit`：是`keepAliveTime`的时间单位。\n",
    "\n",
    "* `workQueue`：这是一个阻塞队列，用于存放`Runnable`任务。\n",
    "\n",
    "* `threadFactory`：这是一个接口，需要用户传入一个接口实现，该接口返回线程对象，用户可以通过这个接口向线程池返回自定义的线程对象以加入自己对线程类的更改。\n",
    "\n",
    "* `handler`：这是一个拒绝处理（饱和处理）策略，也就是说当任务队列已经饱和无法再添加新的任务时，新任务来临时线程池所会采取的策略。通常有两种基本策略：\n",
    "  1. 中止策略。\n",
    "  2. 运行者调用策略。"
   ]
  },
  {
   "cell_type": "markdown",
   "metadata": {},
   "source": [
    "Java中使用的线程池都是`ThreadPoolExecutor`对象，只是根据不同的用途对`ThreadPoolExecutor`的参数进行了设定，然后返回出不同的对象。但是这也就带来了一个疑问：为什么通过`Exectors`类的工厂方法得到的线程池都是`ExectorService`对象而非`ThreadPoolExecutor`呢？这是由于`ThreadPoolExecutor`类中构造方法中的参数都可以通过类的方法进行更改，但是`Executors`中工厂方法返回的线程池对象均是“特化”过的，设计者不希望用户对其进行更改，因此这些通过工厂方法返回的线程池对象都使用`unconfigurableExecutorService`方法进行了包装，将原有的那些更改参数的方法都屏蔽了。当然，这些通过工厂方法返回的线程池对象可以通过限制类型转换的方法转回`ThreadPoolExecutor`对象。"
   ]
  },
  {
   "cell_type": "markdown",
   "metadata": {},
   "source": [
    "### 线程池的大小"
   ]
  },
  {
   "cell_type": "markdown",
   "metadata": {},
   "source": [
    "线程池的大小通常可以根据线程类型（计算密集型，网络IO密集型等）来分别设定为需求资源总量除以单个线程资源的需求量。"
   ]
  },
  {
   "cell_type": "markdown",
   "metadata": {},
   "source": [
    "### 任务队列"
   ]
  },
  {
   "cell_type": "markdown",
   "metadata": {},
   "source": [
    "线程池的基本模型就是任务队列以及线程集合，每当有任务（`Runnable`或者`Callable`）来临时，线程池都是将这些任务添加进一个阻塞队列中去，然后再根据线程池的大小来实例化线程对象，并且从任务队列中取出任务交给线程执行。为了避免无限制地接受任务，通常情况下线程池都会选择有界队列来作为任务队列。\n",
    "\n",
    "在线程池对象中`newCachedThreadPool`使用的是一种与众不同的任务队列`synchronousQueue`，这个队列严格意义上来说不算是一种任务队列，因为它并没有通常线程池对象任务队列中将任务放在任务队列中等待线程执行，线程从任务队列中取任务的操作。要想向`synchronousQueue`队列中放入元素（任务）就必须有一个线程在等待，如果没有且当前线程数没有超过线程池的限定则创建一个线程来接受该元素（任务）。这么做的好处是可以提高线程池的吞吐量。"
   ]
  },
  {
   "cell_type": "markdown",
   "metadata": {},
   "source": [
    "### 饱和策略"
   ]
  },
  {
   "cell_type": "markdown",
   "metadata": {},
   "source": [
    "饱和策略有两种：\n",
    "\n",
    "* 中止策略：这种策略在任务队列达到最大容量时直接“拒绝”新来的任务，但是拒绝的策略不是将新来的任务放弃而是中止任务队列中最老的任务（也就是最接近线程执行的任务，在优先级任务队列中放弃的是优先级最高的任务）。\n",
    "\n",
    "* 调用者执行策略：在任务队列满时，如果新的任务到来，新的任务会直接给执行`submit`或`execute`方法的线程执行。通常情况下执行`submit`或`execute`方法的线程都是主线程，而主线程一旦用于执行任务就意味着无法再添加新的任务。"
   ]
  },
  {
   "cell_type": "markdown",
   "metadata": {},
   "source": [
    "### 线程工厂\n",
    "\n",
    "这其实没什么好说的，就是一个接口提供给用户，让用户可以使用定制版的线程对象在线程池中执行任务：\n",
    "\n",
    "```Java\n",
    "public interface ThreadFactory{\n",
    "    Thread newThread(Runnable r);\n",
    "}\n",
    "```"
   ]
  },
  {
   "cell_type": "markdown",
   "metadata": {},
   "source": [
    "### 扩展`ThreadPoolExecutor`"
   ]
  },
  {
   "cell_type": "markdown",
   "metadata": {},
   "source": [
    "所谓扩展`ThreadPoolExecutor`对象就是继承这个对象，然后重写该对象的`beforeExecute(Thread t, Runnable r)`方法，`afterExecute(Runnable r, Throwable t)`方法。这两个方法在每个任务执行前和执行后调用，若`beforeExecute`方法遇到异常则任务不会执行，`afterExecute`方法也不会执行。但是若线程执行中出现异常那么`afterExecute`还是会执行，其中`Throwable`就是任务或线程抛出的异常。\n",
    "\n",
    "`terminated()`方法也可以选择重写，它是在线程池销毁前进行调用，可以做一些资源回收之类的工作。"
   ]
  },
  {
   "cell_type": "markdown",
   "metadata": {},
   "source": [
    "# 第九章 图形用户界面应用程序\n",
    "\n",
    "该章跳过不看"
   ]
  },
  {
   "cell_type": "code",
   "execution_count": null,
   "metadata": {},
   "outputs": [],
   "source": []
  }
 ],
 "metadata": {
  "kernelspec": {
   "display_name": "Python 3",
   "language": "python",
   "name": "python3"
  },
  "language_info": {
   "codemirror_mode": {
    "name": "ipython",
    "version": 3
   },
   "file_extension": ".py",
   "mimetype": "text/x-python",
   "name": "python",
   "nbconvert_exporter": "python",
   "pygments_lexer": "ipython3",
   "version": "3.5.4"
  }
 },
 "nbformat": 4,
 "nbformat_minor": 2
}
