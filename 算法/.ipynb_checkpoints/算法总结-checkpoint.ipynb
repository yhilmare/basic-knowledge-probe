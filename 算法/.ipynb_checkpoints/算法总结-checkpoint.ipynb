{
 "cells": [
  {
   "cell_type": "markdown",
   "metadata": {},
   "source": [
    "# 动态规划算法知识点总结"
   ]
  },
  {
   "cell_type": "markdown",
   "metadata": {},
   "source": [
    "动态规划算法本质上是通过递归求解得到一个问题的最优解，也就是说将一个问题划分为若干个子问题进行递归求解，这些子问题大多比原问题的规模要小，求解也相对较为简单。动态规划的这一特点与分治法较为相似，但是不同的是分治法划分为的子问题是相互独立的，也就是说不会牵扯到重复计算的问题，但是动态规划则不同，它的子问题往往是不相互独立的，子问题与子问题之间会有重叠，也就是说牵扯到重复计算的问题。下面用一个例子来解释动态规划算法中的子问题覆盖。"
   ]
  },
  {
   "cell_type": "markdown",
   "metadata": {},
   "source": [
    "## 瓷砖覆盖地面的问题"
   ]
  },
  {
   "cell_type": "markdown",
   "metadata": {},
   "source": [
    ">求用$1\\times 2$的瓷砖覆盖$2\\times M$的地板有几种方式？"
   ]
  },
  {
   "cell_type": "markdown",
   "metadata": {},
   "source": [
    "该问题讲的是瓷砖的贴合问题，如下图所示每个瓷砖的高度为1而宽度为2，要贴合在高度为2长度为M的墙面上。那么第一块瓷砖就有如下两种贴合方法：将瓷砖竖着贴；将瓷砖横着贴，这种贴法也就决定了这块瓷砖下面的那一块也必须横着贴。而且这两种贴法之间并不存在重合，因为第一种贴法剩下墙面的宽度为M-1，而第二种贴法墙面剩下的宽度为M-2。设宽度为M的墙面的瓷砖贴合方案数：\n",
    "\n",
    "$$N=F(M)$$\n",
    "\n",
    "则：\n",
    "\n",
    "$$F(M) = F(M-1)+F(M-2)$$"
   ]
  },
  {
   "cell_type": "markdown",
   "metadata": {},
   "source": [
    "![](data:image/png;base64,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)"
   ]
  },
  {
   "cell_type": "markdown",
   "metadata": {},
   "source": [
    "这样就得到了这个问题的子问题，从递推公式可以明显看出这个问题是能够递归求解的。定义求解函数如下："
   ]
  },
  {
   "cell_type": "code",
   "execution_count": 6,
   "metadata": {},
   "outputs": [
    {
     "data": {
      "text/plain": [
       "89"
      ]
     },
     "execution_count": 6,
     "metadata": {},
     "output_type": "execute_result"
    }
   ],
   "source": [
    "def solution(M):\n",
    "    if M == 1:\n",
    "        return 1\n",
    "    elif M == 2:\n",
    "        return 2\n",
    "    else:\n",
    "        return solution(M - 1) + solution(M - 2)\n",
    "solution(10)"
   ]
  },
  {
   "cell_type": "markdown",
   "metadata": {},
   "source": [
    "以上就是一个不太典型的动态规划（这是因为动态规划通常是自底向上求解，但是这个解法明显是自顶向下），但是可以发现这种递归函数虽然简单，但是却存在重复计算的问题，也就是动态规划方法中存在的子问题互相覆盖的问题：例如`solution(3)`就在递归程序中被计算了2次，这种特性被视为性能上的浪费。为了解决这个问题可以对原方法进行改进："
   ]
  },
  {
   "cell_type": "code",
   "execution_count": 11,
   "metadata": {},
   "outputs": [
    {
     "data": {
      "text/plain": [
       "89"
      ]
     },
     "execution_count": 11,
     "metadata": {},
     "output_type": "execute_result"
    }
   ],
   "source": [
    "a = [0 for _ in range(100)]\n",
    "def solution_1(M):\n",
    "    if M == 1:\n",
    "        a[M] = 1\n",
    "    elif M == 2:\n",
    "        a[M] = 2\n",
    "    else:\n",
    "        p = solution_1(M - 1)\n",
    "        q = solution_1(M - 2)\n",
    "        if a[M] == 0:\n",
    "            a[M] = p + q\n",
    "    return a[M]\n",
    "solution_1(10)"
   ]
  },
  {
   "cell_type": "markdown",
   "metadata": {},
   "source": [
    "以上就避免了重复计算的问题，因为程序将已经计算过的值存储在数组`a`中，在递归过程中一旦碰到计算过的值就不再重复计算。"
   ]
  },
  {
   "cell_type": "markdown",
   "metadata": {},
   "source": [
    "## 最长子序列问题（LCS）"
   ]
  },
  {
   "cell_type": "markdown",
   "metadata": {},
   "source": [
    "这是非常常见的一类问题，就是求两个字符串的最长子序列。但是这个子序列并不要求在字符串中连续。\n",
    "\n",
    ">请编写一个函数，输入两个字符串，求他们的最长公共子序列。例如：输入两个字符串`ABCBDAB`和`BDCABA`，字符串序列`BCBA`和`BDAB`都是它们的最长公共子序列，则输出长度为4"
   ]
  },
  {
   "cell_type": "markdown",
   "metadata": {},
   "source": [
    "这个问题是动态规划的一个典型应用，线材尝试化简解决这个问题，假设存在字符串$X=<x_{1},x_{2},x_{3},...,x_{m}>$以及$Y=<y_{1},y_{2},y_{3},...,y_{n}>$，它们的最长公共子序列为$Z=<z_{1},z_{2},z_{3},...,z_{k}>$则可以有以下推论：\n",
    "\n",
    "* 若$x_{m}=y_{n}$则必然有$z_{k}=x_{m}=y_{n}$那么可以推出：$Z=<z_{1},z_{2},z_{3},...,z_{k-1}>$是序列$X=<x_{1},x_{2},x_{3},...,x_{m-1}>$以及$Y=<y_{1},y_{2},y_{3},...,y_{n-1}>$的最长公共子序列。\n",
    "\n",
    "* 若$x_{m} \\neq y_{n}$且$z_{k} \\neq x_{m}$那么可以推出：$Z=<z_{1},z_{2},z_{3},...,z_{k}>$是序列$X=<x_{1},x_{2},x_{3},...,x_{m-1}>$以及$Y=<y_{1},y_{2},y_{3},...,y_{n}>$的最长公共子序列。\n",
    "\n",
    "* 若$x_{m} \\neq y_{n}$且$z_{k} \\neq y_{n}$那么可以推出：$Z=<z_{1},z_{2},z_{3},...,z_{k}>$是序列$X=<x_{1},x_{2},x_{3},...,x_{m}>$以及$Y=<y_{1},y_{2},y_{3},...,y_{n-1}>$的最长公共子序列。\n",
    "\n",
    "设函数$LCS(X_{m},Y_{n})$为序列$X_{m}$和$Y_{n}$的最长公共子序列，则有以下递推公式：\n",
    "\n",
    "$$LCS(X_{m}, Y_{n})=LCS(X_{m-1}, Y_{n-1}) + 1, X_{m}=Y_{n}$$\n",
    "\n",
    "$$LCS(X_{m}, Y_{n})=max(LCS(X_{m-1}, Y_{n}),LCS(X_{m}, Y_{n-1})), X_{m}\\neq Y_{n}$$"
   ]
  },
  {
   "cell_type": "markdown",
   "metadata": {},
   "source": [
    "现在编写一个函数来实现："
   ]
  },
  {
   "cell_type": "code",
   "execution_count": 35,
   "metadata": {},
   "outputs": [
    {
     "name": "stdout",
     "output_type": "stream",
     "text": [
      "The LCS of the seq \"ABCBDAB\" and \"BDCABA\" is 4\n"
     ]
    }
   ],
   "source": [
    "def LCS_solution(str1, str2, i, j):\n",
    "    if i < 0 or j < 0:\n",
    "        return 0\n",
    "    if str1[i] == str2[j]:\n",
    "        return LCS_solution(str1, str2, i - 1, j - 1) + 1\n",
    "    else:\n",
    "        p = LCS_solution(str1, str2, i, j - 1)\n",
    "        q = LCS_solution(str1, str2, i - 1, j)\n",
    "        if p > q:\n",
    "            return p\n",
    "        else:\n",
    "            return q\n",
    "str1 = \"ABCBDAB\"\n",
    "str2 = \"BDCABA\"\n",
    "print(\"The LCS of the seq \\\"{0}\\\" and \\\"{1}\\\" is {2}\".format(str1, str2, LCS_solution(str1, str2, len(str1) - 1, len(str2) - 1)))"
   ]
  },
  {
   "cell_type": "markdown",
   "metadata": {},
   "source": [
    "当然，这样的递归解法虽然很简单但是却存在重复计算，效率不高的问题。解决方法就是使用“备忘录”方法来进行改进："
   ]
  },
  {
   "cell_type": "code",
   "execution_count": 36,
   "metadata": {},
   "outputs": [],
   "source": [
    "c = [[-1 for _ in range(len(str2))] for _ in range(len(str1))]"
   ]
  },
  {
   "cell_type": "code",
   "execution_count": 37,
   "metadata": {},
   "outputs": [
    {
     "name": "stdout",
     "output_type": "stream",
     "text": [
      "The LCS of the seq \"ABCBDAB\" and \"BDCABA\" is 4\n"
     ]
    }
   ],
   "source": [
    "def LCS_solution_1(str1, str2, i, j):\n",
    "    if c[i][j] != -1:\n",
    "        return c[i][j]\n",
    "    if i < 0 or j < 0:\n",
    "        return 0\n",
    "    if str1[i] == str2[j]:\n",
    "        c[i][j] = LCS_solution_1(str1, str2, i - 1, j - 1) + 1\n",
    "    else:\n",
    "        q = LCS_solution_1(str1, str2, i - 1, j)\n",
    "        p = LCS_solution_1(str1, str2, i, j - 1)\n",
    "        if q > p:\n",
    "            c[i][j] = q\n",
    "        else:\n",
    "            c[i][j] = p\n",
    "    return c[i][j]\n",
    "print(\"The LCS of the seq \\\"{0}\\\" and \\\"{1}\\\" is {2}\".format(str1, str2, LCS_solution_1(str1, str2, len(str1) - 1, len(str2) - 1)))"
   ]
  },
  {
   "cell_type": "markdown",
   "metadata": {},
   "source": [
    "上面这种写法在某一个值被计算出之后就不会再次计算而是直接返回，在效率上要高一些。"
   ]
  },
  {
   "cell_type": "markdown",
   "metadata": {},
   "source": [
    "## 字符串修改问题"
   ]
  },
  {
   "cell_type": "markdown",
   "metadata": {},
   "source": [
    ">给定一个源字符串和目标字符串，能够对其进行如下操作：\n",
    "* 在给定位置上插入一个字符\n",
    "* 替换任意字符\n",
    "* 删除任意字符\n",
    "\n",
    ">写一个程序，返回最小操作数，使得进行这些操作以后源串等于目标字符串，源字符串和目标字符串的长度都小于2000"
   ]
  },
  {
   "cell_type": "markdown",
   "metadata": {},
   "source": [
    "对于这样的一个问题，首先要分析源字符串和目标字符串之间的种种关系，设源字符串为$S_{1}$目标字符串为$S_{2}$，最小操作数记为$N$：\n",
    "\n",
    "* 若$S_{1}[0]=S_{2}[0]$那么总的操作数就等于$S_{1}[1:len(S_{1}) - 1]$和$S_{2}[1:len(S_{2}) - 1]$的操作数。\n",
    "\n",
    "* 若$S_{1}[0] \\neq S_{2}[0]$那么总的操作数就等于以下六种情况的操作数加一：\n",
    "  1. 修改$S_{1}[0]$为$S_{2}[0]$那么接下来只需要计算$S_{1}[1:len(S_{1}) - 1]$和$S_{2}[1:len(S_{2}) - 1]$的操作数。\n",
    "  2. 修改$S_{2}[0]$为$S_{1}[0]$那么接下来只需要计算$S_{1}[1:len(S_{1}) - 1]$和$S_{2}[1:len(S_{2}) - 1]$的操作数。\n",
    "  3. 删除$S_{1}[0]$，接下来只需要计算$S_{1}[1:len(S_{1}) - 1]$和$S_{2}[0:len(S_{2}) - 1]$的操作数。\n",
    "  4. 删除$S_{2}[0]$，接下来只需要计算$S_{1}[0:len(S_{1}) - 1]$和$S_{2}[1:len(S_{2}) - 1]$的操作数。\n",
    "  5. 增加$S_{1}[0]$到$S_{2}[0]$之前，那么就只需要计算$S_{1}[1:len(S_{1}) - 1]$和$S_{2}[0:len(S_{2}) - 1]$的操作数。\n",
    "  6. 增加$S_{2}[0]$到$S_{1}[0]$之前，那么就只需要计算$S_{1}[0:len(S_{1}) - 1]$和$S_{2}[1:len(S_{2}) - 1]$的操作数。\n",
    "  \n",
    "* 以上六种操作可以合并为三种：\n",
    "  1. 计算$S_{1}[1:len(S_{1}) - 1]$和$S_{2}[1:len(S_{2}) - 1]$的操作数。\n",
    "  2. 计算$S_{1}[1:len(S_{1}) - 1]$和$S_{2}[0:len(S_{2}) - 1]$的操作数。\n",
    "  3. 计算$S_{1}[0:len(S_{1}) - 1]$和$S_{2}[1:len(S_{2}) - 1]$的操作数。"
   ]
  },
  {
   "cell_type": "markdown",
   "metadata": {},
   "source": [
    "接下来开始编写程序，这同样也是一个递归程序："
   ]
  },
  {
   "cell_type": "code",
   "execution_count": 41,
   "metadata": {},
   "outputs": [
    {
     "name": "stdout",
     "output_type": "stream",
     "text": [
      "The min operate times of the seq \"ABCBDAB\" and \"BDCABA\" is 5\n"
     ]
    }
   ],
   "source": [
    "def modify(str1, str2, s1begin, s1end, s2begin, s2end):\n",
    "    if s1begin >= s1end:\n",
    "        if s2begin >= s2end:\n",
    "            return 0\n",
    "        else:\n",
    "            return s2end - s2begin + 1\n",
    "    elif s2begin >= s2end:\n",
    "        if s1begin >= s1end:\n",
    "            return 0\n",
    "        else:\n",
    "            return s1end - s1begin + 1\n",
    "    if str1[s1begin] == str2[s2begin]:\n",
    "        return modify(str1, str2, s1begin + 1, s1end, s2begin + 1, s2end)\n",
    "    else:\n",
    "        a = modify(str1, str2, s1begin + 1, s1end, s2begin + 1, s2end)\n",
    "        b = modify(str1, str2, s1begin + 1, s1end, s2begin, s2end)\n",
    "        c = modify(str1, str2, s1begin, s1end, s2begin + 1, s2end)\n",
    "        value = min(a, b, c)\n",
    "        return value + 1\n",
    "print(\"The min operate times of the seq \\\"{0}\\\" and \\\"{1}\\\" is {2}\".format(str1, str2, modify(str1, str2, 0, len(str1) - 1, 0, len(str2) - 1)))"
   ]
  },
  {
   "cell_type": "markdown",
   "metadata": {},
   "source": [
    "## 0-1背包问题"
   ]
  },
  {
   "cell_type": "markdown",
   "metadata": {},
   "source": [
    ">总共有三件物品，背包可容纳5磅东西，物品1重1磅，价值60元，物品2重2磅，价值100元，物品3重3磅，价值120元。怎样才能最大化背包中的物品价值。\n",
    "\n",
    "0-1背包问题是一类特殊的问题，它有约束条件：背包中的东西只能放入一次，也就是说背包中放入了物品一就不能再放入一次物品一，而且物品都是有原子性的，不能放一半，必须全部放入。\n",
    "\n",
    "解决这个问题依然可以使用动态规划算法，首先要分析问题，首先将物品的重量从小到大排序：\n",
    "\n",
    "* 若背包中剩余容量不足以容纳物品$i$，则背包中物品价值等于在物品$0 \\sim i$中选择。\n",
    "\n",
    "* 若背包中剩余容量足以容纳物品$i$，则背包中物品价值等于背包中加入物品$i$的价值与排除物品$i$价值的最大值。\n",
    "\n",
    "通过以上分析，就能够写出一个程序来求解这个问题："
   ]
  },
  {
   "cell_type": "code",
   "execution_count": 17,
   "metadata": {},
   "outputs": [
    {
     "name": "stdout",
     "output_type": "stream",
     "text": [
      "1250\n"
     ]
    }
   ],
   "source": [
    "def package(total, arrA, arrB):\n",
    "    N = len(arrA)\n",
    "    arrA1 = [i if i == 0 else arrA[i - 1] for i in range(len(arrA) + 1)]\n",
    "    arrB1 = [i if i == 0 else arrB[i - 1]  for i in range(len(arrB) + 1)]\n",
    "    f = [[0 for _ in range(total + 1)] for _ in range(N + 1)]\n",
    "    for i in range(total + 1):\n",
    "        f[0][i] = 0;\n",
    "    for i in range(1, N + 1):\n",
    "        f[i][0] = 0;\n",
    "        for j in range(1, total + 1):\n",
    "            if j < arrA1[i]:\n",
    "                f[i][j] = f[i - 1][j];\n",
    "            else:\n",
    "                f[i][j] = f[i - 1][j] if (f[i - 1][j] > f[i - 1][j - arrA1[i]] + arrB1[i]) else (f[i - 1][j - arrA1[i]] + arrB1[i]);\n",
    "    print(f[N][total]);\n",
    "package(15, [1,2,3,5,9],[300,480,270,200,180])"
   ]
  },
  {
   "cell_type": "markdown",
   "metadata": {},
   "source": [
    "以上的背包问题仅仅拥有一个约束条件，如果约束条件多于一个也可以依照前例的解法来解答，现在以一个例子来分析这个问题：\n",
    "\n",
    ">该题目的大意是说有一个博士创造了一个反应堆，里面可以加入燃料来获得能量，现在有两个约束条件：反应堆的容量是有限的，反应堆中燃料的质量也有限制。每种燃料都有自己的质量，体积以及反应释放出的能量。题目的优化目标是如何放置这些燃料在不违反约束的条件下达到反应能量的最大化。给出的测试数据如下：反应堆的容积为100，临界质量为15，有五种燃料的信息如下，体积：$$V=\\{50, 40, 30, 20, 10\\}$$质量：$$M=\\{1, 2, 3, 9, 5\\}$$燃烧能量：$$E=\\{300, 480, 270, 200, 180\\}$$"
   ]
  },
  {
   "cell_type": "markdown",
   "metadata": {},
   "source": [
    "假如现在反应堆的容积或临界质量任意一个为0，那么这个反应堆不能放置任何燃料，其能量也就为0；假如没有任何燃料，则无论反应堆的约束条件如何其输出能量也为0。以上两条假设定义了该问题的计算边界条件，现在来推出其递推条件。\n",
    "\n",
    "不失一般性，现在假设反应堆中已经加入了一定量的燃料，导致反应堆目前剩余的体积和临界质量分别为$i$和$j$，那么当下一个燃料来临时我们面临着这样的选择：\n",
    "\n",
    "* 新来的燃料可以放入反应堆中：反应堆的剩余体积和临界质量均大于新燃料的体积和质量。\n",
    "  1. 如果选择将其放入反应堆中，那么反应堆的剩余体积和临界质量均要减去该燃料的体积和质量，并且反应堆的能量值要加上该燃料的能量值。\n",
    "  2. 如果选择不将其放入反应堆中，那么反应堆的剩余容积和临界质量不变，总的输出能量也不变。\n",
    "* 新来的然后不能放入反应堆中：新燃料的质量或体积超出了反应堆的限制，这种情况下上面情况的第二种子情况相同。\n",
    "\n",
    "由于我们已经给出了反应堆在临界质量和容积为0时反应堆的能量输出值（为0）以及燃料用尽时反应堆的能量输出（也为0），因此题目的迭代边界条件已经明确。上面两点给出的是在边界条件之内题目的迭代逻辑，现在用更一般的数学方式给出。记$f[i][j][k]$为在有$0 \\sim i$个燃料可供选择以及反应堆容积为$i$，临界质量为$k$的情况下反应堆的输出能量。\n",
    "\n",
    "$$f[i][j][k]=\\begin{equation}\n",
    "\\left\\{\n",
    "             \\begin{array}{lr}\n",
    "             f[i - 1][j][k] &  V[i] > j \\;或\\; M[i] > k\\\\\n",
    "             max(f[i - 1][j][k] > f[i - 1][j - V[i]][k - M[i]] + E[i]) & V[i] \\leq j \\;且 \\;M[i] \\leq k\n",
    "             \\end{array}\n",
    "\\right.\n",
    "\\end{equation}$$"
   ]
  },
  {
   "cell_type": "markdown",
   "metadata": {},
   "source": [
    "给出的程序如下："
   ]
  },
  {
   "cell_type": "code",
   "execution_count": 18,
   "metadata": {},
   "outputs": [
    {
     "data": {
      "text/plain": [
       "960"
      ]
     },
     "execution_count": 18,
     "metadata": {},
     "output_type": "execute_result"
    }
   ],
   "source": [
    "def package(capacity, criticalMass, Volumns, Masses, Energy):\n",
    "    f = [[[0 for _ in range(criticalMass + 1)] for _ in range(capacity + 1)] for _ in range(len(Volumns) + 1)]\n",
    "    volumns = [i if i == 0 else Volumns[i - 1] for i in range(len(Volumns) + 1)]\n",
    "    masses = [i if i == 0 else Masses[i - 1] for i in range(len(Masses) + 1)]\n",
    "    energy = [i if i == 0 else Energy[i - 1] for i in range(len(Energy) + 1)]\n",
    "    for i in range(len(volumns)):\n",
    "        for j in range(capacity + 1):\n",
    "            for k in range(criticalMass + 1):\n",
    "                if j == 0 or k == 0:\n",
    "                    f[i][j][k] = 0\n",
    "                else:\n",
    "                    f[i][j][k] = -1\n",
    "    for i in range(1, capacity + 1):\n",
    "        for j in range(1, criticalMass + 1):\n",
    "            f[0][i][j] = 0\n",
    "            for k in range(1, len(volumns)):\n",
    "                if j < masses[k] or i < volumns[k]:\n",
    "                    f[k][i][j] = f[k - 1][i][j]\n",
    "                else:\n",
    "                    f[k][i][j] = f[k - 1][i][j] if f[k - 1][i][j] > f[k - 1][i - volumns[k]][j - masses[k]] + energy[k] else (f[k - 1][i - volumns[k]][j - masses[k]] + energy[k])\n",
    "    return f[len(Volumns)][capacity][criticalMass]\n",
    "\n",
    "package(100, 15, [50, 40, 30, 20, 10], [1, 2, 3, 9, 5], [300, 480, 270, 200, 180])"
   ]
  },
  {
   "cell_type": "markdown",
   "metadata": {},
   "source": [
    "# 最长子序列问题"
   ]
  },
  {
   "cell_type": "markdown",
   "metadata": {},
   "source": [
    "这个问题和LCS（最长公共子序列）比较类似，但是也有不同：\n",
    "\n",
    "* 最长公共子序列（LCS）问题是**两个字符串**之间比较其相同的字串。\n",
    "\n",
    "* 最长子序列是比较**同一个序列**中重复序列的最长长度。"
   ]
  },
  {
   "cell_type": "markdown",
   "metadata": {},
   "source": [
    "例如，有如下序列：\n",
    "\n",
    "```shell\n",
    "abcdabcdasadasd\n",
    "```\n",
    "其最长子序列为`abcda`。这个问题的解题思路是将一个序列分解成后缀树并且排序，上面序列分解后为如下形式：\n",
    "\n",
    "```shell\n",
    "['abcdabcdasadasd', 'abcdasadasd', 'adasd', 'asadasd', 'asd', 'bcdabcdasadasd', 'bcdasadasd', 'cdabcdasadasd', 'cdasadasd', 'd', 'dabcdasadasd', 'dasadasd', 'dasd', 'sadasd', 'sd']\n",
    "```\n",
    "随后在后缀式列表中比较相邻的两个子串，得到每两个相邻字串的最大重合度以及重合的字符串，最后再选出重合度最长的那个。程序如下所示："
   ]
  },
  {
   "cell_type": "code",
   "execution_count": 24,
   "metadata": {},
   "outputs": [
    {
     "data": {
      "text/plain": [
       "'abcda'"
      ]
     },
     "execution_count": 24,
     "metadata": {},
     "output_type": "execute_result"
    }
   ],
   "source": [
    "def suffixtree(str):\n",
    "    return_mat = []\n",
    "    for i in range(len(str)):\n",
    "        return_mat.append(str[len(str) - i - 1: ])\n",
    "    return_mat = sorted(return_mat, reverse=False)\n",
    "    return return_mat\n",
    "\n",
    "def longest_str(suffix):\n",
    "    ret = \"\"\n",
    "    max_length = 0\n",
    "    for i in range(len(suffix) - 1):\n",
    "        cur = suffix[i]\n",
    "        suf = suffix[i + 1]\n",
    "        tmp_length = 0\n",
    "        for j in range(min(len(cur), len(suf))):\n",
    "            if cur[j] == suf[j]:\n",
    "                tmp_length += 1\n",
    "            else:\n",
    "                break;\n",
    "            if max_length < tmp_length:\n",
    "                max_length = tmp_length\n",
    "                ret = cur[0: tmp_length]\n",
    "    return ret\n",
    "\n",
    "suffix = suffixtree(\"abcdabcdasadasd\")\n",
    "longest_str(suffix)"
   ]
  },
  {
   "cell_type": "code",
   "execution_count": null,
   "metadata": {},
   "outputs": [],
   "source": []
  }
 ],
 "metadata": {
  "kernelspec": {
   "display_name": "Python 3",
   "language": "python",
   "name": "python3"
  },
  "language_info": {
   "codemirror_mode": {
    "name": "ipython",
    "version": 3
   },
   "file_extension": ".py",
   "mimetype": "text/x-python",
   "name": "python",
   "nbconvert_exporter": "python",
   "pygments_lexer": "ipython3",
   "version": "3.5.4"
  }
 },
 "nbformat": 4,
 "nbformat_minor": 2
}
