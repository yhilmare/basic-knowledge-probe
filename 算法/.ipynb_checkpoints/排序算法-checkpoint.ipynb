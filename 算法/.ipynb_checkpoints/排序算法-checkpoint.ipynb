{
 "cells": [
  {
   "cell_type": "markdown",
   "metadata": {},
   "source": [
    "# 排序算法"
   ]
  },
  {
   "cell_type": "markdown",
   "metadata": {},
   "source": [
    "## 插入排序\n",
    "\n",
    "插入排序是一类排序算法的总称，其中心思想是将一个元素插入已经排序完成的序列中，达到总体的有序。\n",
    "\n",
    "* ### 直接插入排序\n",
    "\n",
    "直接插入排序就是单纯地将一个元素插入到一个有序序列中。"
   ]
  },
  {
   "cell_type": "code",
   "execution_count": 5,
   "metadata": {},
   "outputs": [
    {
     "name": "stdout",
     "output_type": "stream",
     "text": [
      "[0, 1, 2, 3, 4]\n"
     ]
    }
   ],
   "source": [
    "def insertSort(lst):\n",
    "    for i in range(1, len(lst)):\n",
    "        num = lst[i]\n",
    "        j = i - 1\n",
    "        while j >=0 and num <= lst[j]:\n",
    "            lst[j + 1] = lst[j]\n",
    "            j -= 1\n",
    "        lst[j + 1] = num\n",
    "a = [4,0,2,3,1]\n",
    "insertSort(a)\n",
    "print(a)"
   ]
  },
  {
   "cell_type": "markdown",
   "metadata": {},
   "source": [
    "这种排序算法的思想就是：从待排序数组的第一个元素开始向后扫描，对于每一个元素均扫描其前面的所有元素。例如对于索引为`1`的元素，算法会扫描前面的第`0`个元素，并比较其大小，视排序算法为升序还是降序来决定是否要交换其位置，这样经过第一轮排序之后数组的前两个元素就变得有序了。接着再扫描索引为`2`的元素，并依次比较它和前面两个元素的大小，通过交换位置的方式使前三个元素都变得有序，以此类推，直到整个序列变得有序。"
   ]
  },
  {
   "cell_type": "markdown",
   "metadata": {},
   "source": [
    "## 交换排序"
   ]
  },
  {
   "cell_type": "markdown",
   "metadata": {},
   "source": [
    "* ### 冒泡排序\n",
    "\n",
    "这种是最基本的排序方法，非常简单："
   ]
  },
  {
   "cell_type": "code",
   "execution_count": 7,
   "metadata": {},
   "outputs": [
    {
     "data": {
      "text/plain": [
       "[4, 3, 2, 1, 0]"
      ]
     },
     "execution_count": 7,
     "metadata": {},
     "output_type": "execute_result"
    }
   ],
   "source": [
    "def popSort(lst):\n",
    "    while True:\n",
    "        flag = True\n",
    "        for i in range(0, len(lst) - 1):\n",
    "            if lst[i] < lst[i + 1]:\n",
    "                tmp = lst[i]\n",
    "                lst[i] = lst[i + 1]\n",
    "                lst[i + 1] = tmp\n",
    "                flag = False\n",
    "        if flag:\n",
    "            break\n",
    "a = [4,0,2,3,1]\n",
    "popSort(a)\n",
    "a"
   ]
  },
  {
   "cell_type": "markdown",
   "metadata": {},
   "source": [
    "* ### 快速排序\n",
    "\n",
    "这是一种非常重要的排序算法，它的中心思想就是在无序的序列中找到一个值，然后通过一系列交换措施将比这个值大的序列元素放到该值的一侧，比这个值小的元素放到该值的另一侧，然后再把这个值两侧的子序列分别进行相同的处理，直到总的序列排序完成。通常情况下，其遵循这样的操作流程：\n",
    "\n",
    "1. 分别定义两个指针`low`和`high`指向序列的头部和尾部，并且将`low`指针指向的元素定义为分界点的值`tag`。\n",
    "\n",
    "2. 首先将`high`向前移动，直到找到第一个比`tag`小的元素（根据是升序排序还是降序排序而异）然后把这个位置的值赋给`low`指针指向的元素。\n",
    "\n",
    "3. 然后再将`low`指针向后移动，直到找到第一个比`tag`大的元素，然后将这个值赋给`high`指针指向的元素。\n",
    "\n",
    "4. 一直重复`2`和`3`步骤，直到`low`和`high`指针在某一个元素上相遇，则把这个元素的值变为`tag`。随后以这个值为分界点将原序列分成两个子序列再运行步骤`1`，直到新的子序列长度为一或者`low`和`high`指针重合。"
   ]
  },
  {
   "cell_type": "code",
   "execution_count": 6,
   "metadata": {},
   "outputs": [
    {
     "data": {
      "text/plain": [
       "['D', 'T', 'a', 'g', 'p', 's']"
      ]
     },
     "execution_count": 6,
     "metadata": {},
     "output_type": "execute_result"
    }
   ],
   "source": [
    "def quickSort(lst, low, high):\n",
    "    if low >= high:\n",
    "        return\n",
    "    tmp = lst[low]\n",
    "    i = low\n",
    "    j = high\n",
    "    while i < j:\n",
    "        while lst[j] >= tmp and i != j:\n",
    "            j -= 1\n",
    "        if i != j:\n",
    "            lst[i] = lst[j]\n",
    "        while a[i] <= tmp and i != j:\n",
    "            i += 1\n",
    "        if i != j:\n",
    "            lst[j] = lst[i]\n",
    "        if i == j:\n",
    "            lst[i] = tmp\n",
    "            break\n",
    "    quickSort(lst, low, i - 1)\n",
    "    quickSort(lst, i + 1, high)\n",
    "a = ['a','D','g','T','s','p']\n",
    "quickSort(a, 0, len(a) - 1)\n",
    "a"
   ]
  },
  {
   "cell_type": "markdown",
   "metadata": {},
   "source": [
    "## 选择排序\n",
    "\n",
    "这种排序方式的思想很简单，将一个长度为`n`的序列划分为`n`趟排序，第`i`趟排序时要找到其后$n-i-1（i=1,2,3,...,n-1）$个元素中最小（或最大）的那个将其和第`i`个元素交换，当指针`i`扫描到序列末尾时排序就结束了。\n",
    "\n",
    "* ### 简单选择排序\n",
    "\n",
    "这种排序算法就是选择排序算法思想的直接实现："
   ]
  },
  {
   "cell_type": "code",
   "execution_count": 8,
   "metadata": {},
   "outputs": [
    {
     "data": {
      "text/plain": [
       "[0, 1, 4, 4, 6]"
      ]
     },
     "execution_count": 8,
     "metadata": {},
     "output_type": "execute_result"
    }
   ],
   "source": [
    "def selectSort(lst):\n",
    "    for i in range(0, len(lst) - 1):\n",
    "        min = i\n",
    "        for j in range(i + 1, len(lst)):\n",
    "            if lst[j] < lst[min]:\n",
    "                min = j\n",
    "        if i != min:\n",
    "            tmp = lst[min]\n",
    "            lst[min] = lst[i]\n",
    "            lst[i] = tmp\n",
    "a = [4,0,1,6,4]\n",
    "selectSort(a)\n",
    "a"
   ]
  },
  {
   "cell_type": "markdown",
   "metadata": {},
   "source": [
    "* ### 堆排序\n",
    "\n",
    "堆排序是一种树形排序方法，它的特点是将`L[1...n]`视为一棵完全二叉树的顺序存储结构，利用完全二叉树中双亲节点和孩子节点之间的内在联系，在当前区中选择关键字最大（最小）的元素。首先要对“堆”进行定义：\n",
    "\n",
    "* $L(i) \\leq L(2i)$且$L(i) \\leq L(2i+1)$\n",
    "\n",
    "或\n",
    "\n",
    "* $L(i) \\geq L(2i)$且$L(i) \\geq L(2i+1)$"
   ]
  },
  {
   "cell_type": "markdown",
   "metadata": {},
   "source": [
    "堆排序的关键是构造初始堆，对初始序列建堆，就是一个反复筛选的过程。n个节点的完全二叉树，最后一个节点是第$\\frac{n}{2}$个节点的孩子。对第$\\frac{n}{2}$个节点为根的子树筛选（要使根节点的关键字值大于其两个孩子的关键字值），使该子树成为堆。之后向前依次对各节点为树根的子树进行相同的操作。反复利用上述方法直到整个序列变成堆。下面是大根堆的构建方法："
   ]
  },
  {
   "cell_type": "code",
   "execution_count": 51,
   "metadata": {},
   "outputs": [
    {
     "name": "stdout",
     "output_type": "stream",
     "text": [
      "[1, 2, 4, 3, 9, 5, 8, 6, 7]\n"
     ]
    },
    {
     "data": {
      "text/plain": [
       "[1, 2, 3, 4, 5, 6, 7, 8, 9]"
      ]
     },
     "execution_count": 51,
     "metadata": {},
     "output_type": "execute_result"
    }
   ],
   "source": [
    "def heapSort(lst):\n",
    "    return_mat = []\n",
    "    while True:\n",
    "        buildMaxHeap(lst)\n",
    "        return_mat.append(lst[0])\n",
    "        lst = lst[1:]\n",
    "        if len(lst) == 0:\n",
    "            break\n",
    "    return return_mat\n",
    "def buildMaxHeap(lst):\n",
    "    for i in range(len(lst) // 2, 0, -1):\n",
    "        adjustDown(lst, i)\n",
    "def adjustDown(A, k):\n",
    "    tmp = A[k - 1]\n",
    "    i = k * 2\n",
    "    while i <= len(A):\n",
    "        if i < len(A) and A[i - 1] > A[i]:\n",
    "            i += 1\n",
    "        if tmp > A[i - 1]:\n",
    "            A[k - 1] = A[i - 1]\n",
    "            k = i\n",
    "        else:\n",
    "            break\n",
    "        i *= 2\n",
    "    A[k - 1] = tmp\n",
    "a=[2,1,4,3,9,5,8,6,7]\n",
    "buildMaxHeap(a)\n",
    "print(a)\n",
    "heapSort(a)"
   ]
  },
  {
   "cell_type": "markdown",
   "metadata": {},
   "source": [
    "构建完成大根堆（小根堆）后，序列的最大值（最小值）就在树的根，则取出树根然后将新的序列继续生成大根堆（小根堆）得到子序列的最大（最小）值，这样就能够得到一个新的序列。"
   ]
  },
  {
   "cell_type": "markdown",
   "metadata": {},
   "source": [
    "## 归并排序\n",
    "\n",
    "* ### 二路归并算法\n",
    "\n",
    "“归并”的含义是将两个或两个以上的有序表组合成一个新的有序表。假定待排序表含有n个记录，则可以视为n个有序的子表，每个子表长度为1，然后两两归并，得到$\\frac{n}{2}$个长度为2或1的有序表；再两两归并，...如此重复，直到合成一个长度为n的有序表为止。"
   ]
  },
  {
   "cell_type": "code",
   "execution_count": 3,
   "metadata": {},
   "outputs": [
    {
     "data": {
      "text/plain": [
       "[13, 27, 38, 49, 65, 76, 97]"
      ]
     },
     "execution_count": 3,
     "metadata": {},
     "output_type": "execute_result"
    }
   ],
   "source": [
    "def mergeSort(lst, low, high):\n",
    "    if low < high:\n",
    "        mid = (low + high) // 2\n",
    "        mergeSort(lst, low, mid)\n",
    "        mergeSort(lst, mid + 1, high)\n",
    "        merge(lst, low, mid, high)\n",
    "def merge(lst, low, mid, high):\n",
    "    b = []\n",
    "    for i in range(low, high + 1):\n",
    "        b.append(lst[i])\n",
    "    i = low\n",
    "    j = mid + 1\n",
    "    k = low\n",
    "    while i <= mid and j <= high:\n",
    "        if b[i - low] < b [j - low]:\n",
    "            lst[k] = b[i - low]\n",
    "            i += 1\n",
    "        else:\n",
    "            lst[k] = b[j - low]\n",
    "            j += 1\n",
    "        k += 1\n",
    "    while i <= mid:\n",
    "        lst[k] = b[i - low]\n",
    "        k += 1\n",
    "        i += 1\n",
    "    while j <= high:\n",
    "        lst[k] = b[j - low]\n",
    "        j += 1\n",
    "        k += 1\n",
    "a = [49,38,65,97,76,13,27]\n",
    "mergeSort(a, 0, len(a) - 1)\n",
    "a           "
   ]
  },
  {
   "cell_type": "markdown",
   "metadata": {},
   "source": [
    "上面的二路归并排序需要一个辅助数组，在函数`merge`中接受三个参数`low`，`mid`以及`high`。其中，`low`和`high`将原序列划分成一个子序列，而`mid`又将子序列划分为两个部分，这两个部分分别是有序的。当进行归并排序时首先将原序列的以`low`和`high`划分的子序列进行备份，备份序列命名为`b`。然后分别定义两个指针分别指向`b`的开头和`mid - low + 1`（之所以要减去`low`是因为辅助数组`b`是从0开始索引的，但是子序列却是从`low`开始索引的，而`low`并不一定是0）位置，由于以`mid`划分的两个子序列分别是有序的，因此就可以将辅助数组两个子序列归并成一个大的有序序列存储在原序列中。程序最后的两个`while`循环是为了将辅助数组中没有扫描到的元素也添加到原序列中。"
   ]
  },
  {
   "cell_type": "markdown",
   "metadata": {},
   "source": [
    "* ### 多路归并\n",
    "\n",
    "多路归并和二路归并的算法是大同小异的，在这里就不再赘述了。"
   ]
  },
  {
   "cell_type": "markdown",
   "metadata": {},
   "source": [
    "# 各种排序算法的时间及空间复杂度\n",
    "\n",
    "各种排序算法的性质见下表："
   ]
  },
  {
   "cell_type": "markdown",
   "metadata": {},
   "source": [
    "<table cellspace=\"0\" cellpadding=\"0\">\n",
    "    <tr>\n",
    "        <td rowspan=\"2\">算法种类</td>\n",
    "        <td rowspan=1 colspan=3>时间复杂度</td>\n",
    "        <td rowspan=2>空间复杂度</td>\n",
    "        <td rowspan=2>是否稳定</td>\n",
    "    </tr>\n",
    "    <tr>\n",
    "        <td rowspan=1 colspan=1>最好情况</td>\n",
    "        <td rowspan=1>平均情况</td>\n",
    "        <td rowspan=1>最坏情况</td>\n",
    "    </tr>\n",
    "    <tr>\n",
    "        <td>直接插入排序</td>\n",
    "        <td>$$O(n)$$</td>\n",
    "        <td>$$O(n^{2})$$</td>\n",
    "        <td>$$O(n^{2})$$</td>\n",
    "        <td>$$O(1)$$</td>\n",
    "        <td>是</td>\n",
    "    </tr>\n",
    "    <tr>\n",
    "        <td>冒泡排序</td>\n",
    "        <td>$$O(n)$$</td>\n",
    "        <td>$$O(n^{2})$$</td>\n",
    "        <td>$$O(n^{2})$$</td>\n",
    "        <td>$$O(1)$$</td>\n",
    "        <td>是</td>\n",
    "    </tr>\n",
    "    <tr>\n",
    "        <td>简单选择排序</td>\n",
    "        <td>$$O(n^{2})$$</td>\n",
    "        <td>$$O(n^{2})$$</td>\n",
    "        <td>$$O(n^{2})$$</td>\n",
    "        <td>$$O(1)$$</td>\n",
    "        <td>否</td>\n",
    "    </tr>\n",
    "    <tr>\n",
    "        <td>希尔排序</td>\n",
    "        <td>-</td>\n",
    "        <td>-</td>\n",
    "        <td>-</td>\n",
    "        <td>$$O(1)$$</td>\n",
    "        <td>否</td>\n",
    "    </tr>\n",
    "    <tr>\n",
    "        <td>快速排序</td>\n",
    "        <td>$$O(nlog_{2}n)$$</td>\n",
    "        <td>$$O(nlog_{2}n)$$</td>\n",
    "        <td>$$O(n^{2})$$</td>\n",
    "        <td>$$O(log_{2}n)$$</td>\n",
    "        <td>否</td>\n",
    "    </tr>\n",
    "    <tr>\n",
    "        <td>堆排序</td>\n",
    "        <td>$$O(nlog_{2}n)$$</td>\n",
    "        <td>$$O(nlog_{2}n)$$</td>\n",
    "        <td>$$O(nlog_{2}n)$$</td>\n",
    "        <td>$$O(1)$$</td>\n",
    "        <td>否</td>\n",
    "    </tr>\n",
    "    <tr>\n",
    "        <td>二路归并排序</td>\n",
    "        <td>$$O(nlog_{2}n)$$</td>\n",
    "        <td>$$O(nlog_{2}n)$$</td>\n",
    "        <td>$$O(nlog_{2}n)$$</td>\n",
    "        <td>$$O(n)$$</td>\n",
    "        <td>是</td>\n",
    "    </tr>\n",
    "    <tr>\n",
    "        <td>基数排序</td>\n",
    "        <td>$$O(d(n+r))$$</td>\n",
    "        <td>$$O(d(n+r))$$</td>\n",
    "        <td>$$O(d(n+r))$$</td>\n",
    "        <td>$$O(r)$$</td>\n",
    "        <td>是</td>\n",
    "    </tr>\n",
    "</table>"
   ]
  }
 ],
 "metadata": {
  "kernelspec": {
   "display_name": "Python 3",
   "language": "python",
   "name": "python3"
  },
  "language_info": {
   "codemirror_mode": {
    "name": "ipython",
    "version": 3
   },
   "file_extension": ".py",
   "mimetype": "text/x-python",
   "name": "python",
   "nbconvert_exporter": "python",
   "pygments_lexer": "ipython3",
   "version": "3.5.4"
  }
 },
 "nbformat": 4,
 "nbformat_minor": 2
}
